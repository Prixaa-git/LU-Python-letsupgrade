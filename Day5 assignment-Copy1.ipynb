{
 "cells": [
  {
   "cell_type": "markdown",
   "metadata": {},
   "source": [
    "#  Sort by increasing order but all zeros at right hand side"
   ]
  },
  {
   "cell_type": "code",
   "execution_count": 37,
   "metadata": {},
   "outputs": [
    {
     "name": "stdout",
     "output_type": "stream",
     "text": [
      "Array sort by incraesing order & zeros to RHS of array: \n",
      "[1, 1, 1, 2, 2, 3, 4, 4, 10, 56, 56, 0, 0, 0, 0, 0]\n"
     ]
    }
   ],
   "source": [
    "arr = [0,1,2,10,4,1,0,56,2,0,1,3,0,56,0,4]\n",
    "def pushZerosToEnd(arr, n): \n",
    "    count = 0 # Count of non-zero elements \n",
    "    for i in range(n): \n",
    "        if arr[i] != 0:  \n",
    "            arr[count] = arr[i] \n",
    "            count+=1\n",
    "    while count < n: \n",
    "        arr[count] = 0\n",
    "        count += 1   \n",
    "arr.sort()        \n",
    "n = len(arr) \n",
    "pushZerosToEnd(arr, n) \n",
    "sorted(arr)\n",
    "print(\"Array sort by incraesing order & zeros to RHS of array: \") \n",
    "print(arr) "
   ]
  },
  {
   "cell_type": "markdown",
   "metadata": {},
   "source": [
    "# Merging two sorted lists using while or for loop:"
   ]
  },
  {
   "cell_type": "code",
   "execution_count": 38,
   "metadata": {},
   "outputs": [
    {
     "data": {
      "text/plain": [
       "[5, 10, 15, 20, 25, 35, 40, 45, 60, 60, 70, 80]"
      ]
     },
     "execution_count": 38,
     "metadata": {},
     "output_type": "execute_result"
    }
   ],
   "source": [
    "list1 = [10,20,40,60,70,80]\n",
    "list2 = [5,15,25,35,45,60]\n",
    "list1.extend(list2)\n",
    "sorted(list1)"
   ]
  },
  {
   "cell_type": "code",
   "execution_count": null,
   "metadata": {},
   "outputs": [],
   "source": [
    "list_1 = [10,20,40,60,70,80]\n",
    "list_2 = [5,15,25,35,45,60]\n",
    "index_a = 0\n",
    "index_b = 0\n",
    "merged = []\n",
    "while index_a<len(list_2) or index_b < len(list_2):\n",
    "    if index_a<len(list_1) and list_1[index_a]<=list_2[index_b]:\n",
    "        merged.append(list_1[index_a])\n",
    "        index_a +=1\n",
    "    elif index_b<len(list_2):\n",
    "        merged.append(list_2[index_b])\n",
    "        index_b +=1\n",
    "print (merged)"
   ]
  },
  {
   "cell_type": "code",
   "execution_count": null,
   "metadata": {},
   "outputs": [],
   "source": []
  },
  {
   "cell_type": "code",
   "execution_count": null,
   "metadata": {},
   "outputs": [],
   "source": []
  },
  {
   "cell_type": "code",
   "execution_count": null,
   "metadata": {},
   "outputs": [],
   "source": []
  }
 ],
 "metadata": {
  "kernelspec": {
   "display_name": "Python 3",
   "language": "python",
   "name": "python3"
  },
  "language_info": {
   "codemirror_mode": {
    "name": "ipython",
    "version": 3
   },
   "file_extension": ".py",
   "mimetype": "text/x-python",
   "name": "python",
   "nbconvert_exporter": "python",
   "pygments_lexer": "ipython3",
   "version": "3.7.6"
  }
 },
 "nbformat": 4,
 "nbformat_minor": 4
}
