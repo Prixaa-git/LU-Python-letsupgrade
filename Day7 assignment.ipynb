{
 "cells": [
  {
   "cell_type": "markdown",
   "metadata": {},
   "source": [
    "# Question 1:"
   ]
  },
  {
   "cell_type": "code",
   "execution_count": 2,
   "metadata": {},
   "outputs": [
    {
     "name": "stdout",
     "output_type": "stream",
     "text": [
      "Orginal dictionary is  {21: 'FTP', 22: 'SSH', 23: 'telnet', 80: 'http'}\n",
      "Dictionary after swapping is \n",
      "FTP  :  21\n",
      "SSH  :  22\n",
      "telnet  :  23\n",
      "http  :  80\n"
     ]
    }
   ],
   "source": [
    "port1 ={21:\"FTP\",22:\"SSH\",23:\"telnet\",80:\"http\"}\n",
    "port2 = dict([(value,key) for key,value in port1.items()])\n",
    "print(\"Orginal dictionary is \",port1)\n",
    "print(\"Dictionary after swapping is \")\n",
    "for i in port2:\n",
    "    print(i,\" : \",port2[i])"
   ]
  },
  {
   "cell_type": "markdown",
   "metadata": {},
   "source": [
    "# Question 2:"
   ]
  },
  {
   "cell_type": "code",
   "execution_count": 10,
   "metadata": {},
   "outputs": [
    {
     "name": "stdout",
     "output_type": "stream",
     "text": [
      "[3, 7, 11, 9]\n"
     ]
    }
   ],
   "source": [
    "list1 =[(1,2),(3,4),(5,6),(4,5)]\n",
    "res= [sum(tup) for tup in list1]\n",
    "print(res)\n"
   ]
  },
  {
   "cell_type": "code",
   "execution_count": null,
   "metadata": {},
   "outputs": [],
   "source": []
  }
 ],
 "metadata": {
  "kernelspec": {
   "display_name": "Python 3",
   "language": "python",
   "name": "python3"
  },
  "language_info": {
   "codemirror_mode": {
    "name": "ipython",
    "version": 3
   },
   "file_extension": ".py",
   "mimetype": "text/x-python",
   "name": "python",
   "nbconvert_exporter": "python",
   "pygments_lexer": "ipython3",
   "version": "3.7.6"
  }
 },
 "nbformat": 4,
 "nbformat_minor": 4
}
